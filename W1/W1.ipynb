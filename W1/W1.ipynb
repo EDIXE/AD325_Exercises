{
 "cells": [
  {
   "cell_type": "markdown",
   "metadata": {},
   "source": [
    "Code Step by Step Exercises"
   ]
  },
  {
   "cell_type": "code",
   "execution_count": 5,
   "metadata": {},
   "outputs": [],
   "source": [
    "#Fourth Problem Code\n",
    "\n",
    "class BankAccount:\n",
    "    def __init__(self,name):\n",
    "        self.name=name\n",
    "        self.balance=0.00\n",
    "        self.transaction_fee=0.00\n",
    "\n",
    "    def name(self):\n",
    "        return self.name\n",
    "    \n",
    "    def balance(self):\n",
    "        return self.balance\n",
    "\n",
    "    def transaction_fee(self):\n",
    "        return self.transaction_fee\n",
    "    \n",
    "    def transaction_fee(self,fee):\n",
    "        if fee>=0:\n",
    "            self.transaction_fee=fee\n",
    "    \n",
    "    def deposit(self,amount):\n",
    "        if amount>0:\n",
    "            self.balance += amount\n",
    "            return \"yippee\"\n",
    "        else: \n",
    "            return \"error, no money? broke? relatable\"\n",
    "    def withdraw(self,amount): \n",
    "        if amount<=0:\n",
    "            return \"huh\"\n",
    "        \n",
    "        withdraw_with_fee= amount+self.transaction_fee\n",
    "        \n",
    "        if withdraw_with_fee > self.balance:\n",
    "            return \"no mo moneyyyyy\"\n",
    "        self.balance -= withdraw_with_fee\n",
    "        return \"byebye money\"\n",
    "\n"
   ]
  },
  {
   "cell_type": "markdown",
   "metadata": {},
   "source": []
  },
  {
   "cell_type": "code",
   "execution_count": 6,
   "metadata": {},
   "outputs": [],
   "source": [
    "#Fifth Problem Code\n",
    "\n",
    "def __str__(self):\n",
    "    return f\"{self.name}, ${self.balance:.2f}\"\n"
   ]
  },
  {
   "cell_type": "code",
   "execution_count": null,
   "metadata": {},
   "outputs": [],
   "source": [
    "#Sixth Problem Code\n",
    "\n",
    "def factorial(n):\n",
    "    if n==0 or n==1:\n",
    "        return 1\n",
    "    return (factorial(n-1))*n"
   ]
  },
  {
   "cell_type": "markdown",
   "metadata": {},
   "source": [
    "Data Lemur Exercise Code"
   ]
  },
  {
   "cell_type": "code",
   "execution_count": 7,
   "metadata": {},
   "outputs": [],
   "source": [
    "def factorial(n):\n",
    "  #Initialize\n",
    "  answer=1\n",
    "  #loop from 1 to n\n",
    "  for i in range(1,n+1):\n",
    "    #to show the number currently being multiplied\n",
    "    print(i)\n",
    "    #multiply by i\n",
    "    answer*=i\n",
    "  #the value of n after the loop is done\n",
    "  return answer"
   ]
  }
 ],
 "metadata": {
  "kernelspec": {
   "display_name": "Python 3",
   "language": "python",
   "name": "python3"
  },
  "language_info": {
   "codemirror_mode": {
    "name": "ipython",
    "version": 3
   },
   "file_extension": ".py",
   "mimetype": "text/x-python",
   "name": "python",
   "nbconvert_exporter": "python",
   "pygments_lexer": "ipython3",
   "version": "3.12.7"
  }
 },
 "nbformat": 4,
 "nbformat_minor": 2
}
