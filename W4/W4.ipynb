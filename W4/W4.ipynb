{
 "cells": [
  {
   "cell_type": "markdown",
   "metadata": {},
   "source": [
    "LeetCode Problem"
   ]
  },
  {
   "cell_type": "code",
   "execution_count": 1,
   "metadata": {},
   "outputs": [
    {
     "name": "stdout",
     "output_type": "stream",
     "text": [
      "1\n",
      "-1\n",
      "1\n",
      "-1\n"
     ]
    }
   ],
   "source": [
    "class MyHashMap:\n",
    "\n",
    "    def __init__(self):\n",
    "        self.size = 1000000 #for funni\n",
    "        self.buckets = [[] for i in range(self.size)] \n",
    "\n",
    "    def hash(self, key: int) -> int:\n",
    "        return key % self.size #hash function\n",
    "\n",
    "    def put(self, key: int, value: int) -> None:  #insert values\n",
    "        hashKey=self.hash(key)\n",
    "        for pair in self.buckets[hashKey]: #checks if it exists\n",
    "            if pair[0] == key:\n",
    "                pair[1] = value #update with new value\n",
    "                return\n",
    "        self.buckets[hashKey].append([key, value]) #add if not exists\n",
    "\n",
    "    def get(self, key: int) -> int:\n",
    "        hashKey = self.hash(key) \n",
    "        for pair in self.buckets[hashKey]:\n",
    "            if pair[0] == key:  \n",
    "                return pair[1]  #if key matches return same value\n",
    "        return -1 #not found\n",
    "\n",
    "    def remove(self, key: int) -> None:\n",
    "        hashKey = self.hash(key)\n",
    "        for i, pair in enumerate(self.buckets[hashKey]):\n",
    "            if pair[0] == key:\n",
    "                self.buckets[hashKey].pop(i) #if match remove\n",
    "                return \n",
    "\n",
    "\n",
    "myHashMap = MyHashMap()\n",
    "\n",
    "#adding keyvalue pairs\n",
    "myHashMap.put(1, 1)\n",
    "myHashMap.put(2, 2)\n",
    "print(myHashMap.get(1))\n",
    "print(myHashMap.get(3))\n",
    "\n",
    "#updating a value\n",
    "myHashMap.put(2, 1)\n",
    "print(myHashMap.get(2))\n",
    "\n",
    "#removing a key\n",
    "myHashMap.remove(2)\n",
    "print(myHashMap.get(2))\n"
   ]
  }
 ],
 "metadata": {
  "kernelspec": {
   "display_name": "Python 3",
   "language": "python",
   "name": "python3"
  },
  "language_info": {
   "codemirror_mode": {
    "name": "ipython",
    "version": 3
   },
   "file_extension": ".py",
   "mimetype": "text/x-python",
   "name": "python",
   "nbconvert_exporter": "python",
   "pygments_lexer": "ipython3",
   "version": "3.12.7"
  }
 },
 "nbformat": 4,
 "nbformat_minor": 2
}
