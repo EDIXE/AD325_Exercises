{
 "cells": [
  {
   "cell_type": "markdown",
   "metadata": {},
   "source": [
    "CodeStepbyStep"
   ]
  },
  {
   "cell_type": "code",
   "execution_count": 3,
   "metadata": {},
   "outputs": [
    {
     "name": "stdout",
     "output_type": "stream",
     "text": [
      "Index of 42: 10\n",
      "Index of 66: -1\n"
     ]
    }
   ],
   "source": [
    "def binary_search(array, target, low=0, high=None):\n",
    "    if high is None:\n",
    "        high = len(array)- 1\n",
    "        \n",
    "    if low > high:\n",
    "        return -1 #target value not found\n",
    "    \n",
    "    mid = (low+high) // 2\n",
    "    \n",
    "    if array[mid] == target:\n",
    "        return mid #the target\n",
    "    elif array[mid] < target: \n",
    "        return binary_search(array, target, mid+1, high) #right half\n",
    "    else: \n",
    "        return binary_search(array, target, low, mid-1) #left half\n",
    "    \n",
    "if __name__ == \"__main__\":\n",
    "\n",
    "    a = [-4, 2, 7, 10, 15, 20, 22, 25, 30, 36, 42, 50, 56, 68, 85, 92, 103]\n",
    "\n",
    "    index = binary_search(a, 42)\n",
    "    print(f\"Index of 42: {index}\")\n",
    "\n",
    "    index = binary_search(a, 66)\n",
    "    print(f\"Index of 66: {index}\")"
   ]
  },
  {
   "cell_type": "markdown",
   "metadata": {},
   "source": [
    "DataLemur\n"
   ]
  },
  {
   "cell_type": "code",
   "execution_count": 6,
   "metadata": {},
   "outputs": [
    {
     "name": "stdout",
     "output_type": "stream",
     "text": [
      "10000\n",
      "20000\n"
     ]
    }
   ],
   "source": [
    "def min_inequity(salaries, n):\n",
    "    if n > len(salaries): \n",
    "        return - 1   #checks if n is greater than amount of salaries\n",
    "    salaries.sort()  #sorts them\n",
    "    \n",
    "    min_diff = float(\"inf\")  #minimum difference\n",
    "    \n",
    "    for i in range(len(salaries) - n + 1):  #loop sort list / checks every sublist of n\n",
    "        diff = salaries[i + n - 1] - salaries[i] #calculate the diff between max min\n",
    "        min_diff = min(min_diff, diff)  #update\n",
    "    \n",
    "    return min_diff  #return min ineq\n",
    "\n",
    "\n",
    "salaries_1 = [60000, 80000, 120000, 70000]\n",
    "n_1 = 2\n",
    "print(min_inequity(salaries_1, n_1))\n",
    "\n",
    "salaries_2 = [60000, 80000, 120000, 70000]\n",
    "n_2 = 3\n",
    "print(min_inequity(salaries_2, n_2))"
   ]
  },
  {
   "cell_type": "markdown",
   "metadata": {},
   "source": [
    "LeetCode Problems"
   ]
  },
  {
   "cell_type": "code",
   "execution_count": 12,
   "metadata": {},
   "outputs": [
    {
     "name": "stdout",
     "output_type": "stream",
     "text": [
      "[1, 2, 3, 4]\n",
      "[-1, 0, 3, 4, 5]\n"
     ]
    }
   ],
   "source": [
    "#problem 1\n",
    "\n",
    "from typing import Optional\n",
    "\n",
    "class ListNode:\n",
    "    def __init__(self, val=0, next=None):\n",
    "        self.val = val\n",
    "        self.next = next\n",
    "\n",
    "class Solution:\n",
    "    def insertionSortList(self, head: Optional[ListNode]) -> Optional[ListNode]:\n",
    "        dumdum = ListNode(0)  #dummy node to serve as the start point\n",
    "        current = head  #will iterate over the original list\n",
    "        \n",
    "        while current:\n",
    "            prev = dumdum  #start from the beginning of the sorted part\n",
    "            next_node = current.next  #saves next node to move forward in the og list\n",
    "            \n",
    "            while prev.next and prev.next.val < current.val:  #finds the position in the sorted list\n",
    "                prev = prev.next \n",
    "            \n",
    "            current.next = prev.next  #inserts node\n",
    "            prev.next = current\n",
    "            \n",
    "            current = next_node\n",
    "\n",
    "        return dumdum.next\n",
    "\n",
    "def print_list(head: Optional[ListNode]):\n",
    "    result = []\n",
    "    while head:\n",
    "        result.append(head.val)\n",
    "        head = head.next\n",
    "    print(result)\n",
    "\n",
    "#case 1\n",
    "head = ListNode(4, ListNode(2, ListNode(1, ListNode(3))))\n",
    "solution = Solution()\n",
    "sorted_head = solution.insertionSortList(head)\n",
    "print_list(sorted_head)\n",
    "\n",
    "#case 2\n",
    "head = ListNode(-1, ListNode(5, ListNode(3, ListNode(4, ListNode(0)))))\n",
    "sorted_head = solution.insertionSortList(head)\n",
    "print_list(sorted_head)"
   ]
  },
  {
   "cell_type": "code",
   "execution_count": 11,
   "metadata": {},
   "outputs": [
    {
     "name": "stdout",
     "output_type": "stream",
     "text": [
      "[1, 2, 2, 3, 5, 6]\n",
      "[1]\n",
      "[1]\n"
     ]
    }
   ],
   "source": [
    "#problem 2\n",
    "from typing import List\n",
    "\n",
    "class Solution:\n",
    "    def merge(self, nums1: List[int], m: int, nums2: List[int], n: int) -> None:\n",
    "        \"\"\"\n",
    "        Do not return anything, modify nums1 in-place instead.\n",
    "        \"\"\"\n",
    "        #initialize pointers for nums1, nums2, and the end of nums1\n",
    "        i = m - 1\n",
    "        j = n - 1\n",
    "        k = m + n - 1 \n",
    "\n",
    "        #merges from the end to start\n",
    "        while i >= 0 and j >= 0:\n",
    "            if nums1[i] > nums2[j]:\n",
    "                nums1[k] = nums1[i]\n",
    "                i -= 1\n",
    "            else:\n",
    "                nums1[k] = nums2[j]\n",
    "                j -= 1\n",
    "            k -= 1\n",
    "        \n",
    "        #copies them if nums2 still has elements left\n",
    "        while j >= 0:\n",
    "            nums1[k] = nums2[j]\n",
    "            j -= 1\n",
    "            k -= 1\n",
    "\n",
    "if __name__ == \"__main__\":\n",
    "    solution = Solution()\n",
    "\n",
    "    #case 1\n",
    "    nums1 = [1, 2, 3, 0, 0, 0]\n",
    "    m = 3\n",
    "    nums2 = [2, 5, 6]\n",
    "    n = 3\n",
    "    solution.merge(nums1, m, nums2, n)\n",
    "    print(nums1)\n",
    "\n",
    "    #case 2\n",
    "    nums1 = [1]\n",
    "    m = 1\n",
    "    nums2 = []\n",
    "    n = 0\n",
    "    solution.merge(nums1, m, nums2, n)\n",
    "    print(nums1)\n",
    "\n",
    "    #case 3\n",
    "    nums1 = [0]\n",
    "    m = 0\n",
    "    nums2 = [1]\n",
    "    n = 1\n",
    "    solution.merge(nums1, m, nums2, n)\n",
    "    print(nums1)"
   ]
  },
  {
   "cell_type": "code",
   "execution_count": null,
   "metadata": {},
   "outputs": [],
   "source": []
  }
 ],
 "metadata": {
  "kernelspec": {
   "display_name": "Python 3",
   "language": "python",
   "name": "python3"
  },
  "language_info": {
   "codemirror_mode": {
    "name": "ipython",
    "version": 3
   },
   "file_extension": ".py",
   "mimetype": "text/x-python",
   "name": "python",
   "nbconvert_exporter": "python",
   "pygments_lexer": "ipython3",
   "version": "3.12.7"
  }
 },
 "nbformat": 4,
 "nbformat_minor": 2
}
