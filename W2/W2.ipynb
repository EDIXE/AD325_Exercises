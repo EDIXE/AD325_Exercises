{
 "cells": [
  {
   "cell_type": "markdown",
   "metadata": {},
   "source": [
    "CodeStepbyStep\n"
   ]
  },
  {
   "cell_type": "code",
   "execution_count": 9,
   "metadata": {},
   "outputs": [
    {
     "name": "stdout",
     "output_type": "stream",
     "text": [
      "23\n",
      "15\n",
      "10\n",
      "-1\n"
     ]
    }
   ],
   "source": [
    "#First problem\n",
    "\n",
    "def check_balance(source_code):\n",
    "    stack = []\n",
    "    \n",
    "    for index, char in enumerate(source_code):\n",
    "        if char in \"({\":\n",
    "            stack.append((char, index))\n",
    "        elif char in \")}\":\n",
    "            if not stack:\n",
    "                return index\n",
    "            top_char, top_index = stack.pop()\n",
    "            if (char == ')' and top_char != '(') or (char == '}' and top_char != '{'):\n",
    "                return index\n",
    "\n",
    "    \n",
    "    if stack:\n",
    "        return len(source_code)\n",
    "    return -1\n",
    "\n",
    "print(check_balance(\"if a(4) > 9: foo(a(2)) }\")  )   # returns -1 because balanced\n",
    "print(check_balance(\"for (i=0i&lta(3}i += 1): foo{) )\"))  # returns 14 because } out of order\n",
    "print(check_balance(\"while True) foo() }{ ()\"))        # returns 20 because } doesn't match any {\n",
    "print(check_balance(\"if x:\"))                           # returns 8 because { is never closed"
   ]
  },
  {
   "cell_type": "code",
   "execution_count": 10,
   "metadata": {},
   "outputs": [
    {
     "name": "stdout",
     "output_type": "stream",
     "text": [
      "[9, 28, 17, 16, 19]\n",
      "[3, 7, 5]\n"
     ]
    }
   ],
   "source": [
    "#Second Problem\n",
    "\n",
    "def collapse(int_list):\n",
    "    collapsed_list = []\n",
    "\n",
    "    for i in range(0, len(int_list) - 1, 2):\n",
    "        collapsed_list.append(int_list[i] + int_list[i + 1])\n",
    "    \n",
    "    if len(int_list) % 2 != 0:\n",
    "        collapsed_list.append(int_list[-1])\n",
    "    \n",
    "    return collapsed_list\n",
    "\n",
    "a = [7, 2, 8, 20, 4, 13, 15, 1, 9, 10]\n",
    "print(collapse(a)) \n",
    "\n",
    "b = [1, 2, 3, 4, 5]\n",
    "print(collapse(b))"
   ]
  },
  {
   "cell_type": "code",
   "execution_count": 11,
   "metadata": {},
   "outputs": [
    {
     "name": "stdout",
     "output_type": "stream",
     "text": [
      "[0, 9, 0, 17, 26, 0, 8, 0, 0, 19]\n"
     ]
    }
   ],
   "source": [
    "#Third problem\n",
    "\n",
    "def collapse_pairs(int_list):\n",
    "\n",
    "    for i in range(0, len(int_list) - 1, 2):\n",
    "        pair_sum = int_list[i] + int_list[i + 1]\n",
    "        \n",
    "        if pair_sum % 2 == 0:\n",
    "            int_list[i] = pair_sum\n",
    "            int_list[i + 1] = 0\n",
    "        else:\n",
    "            int_list[i] = 0\n",
    "            int_list[i + 1] = pair_sum\n",
    "            \n",
    "a = [7, 2, 8, 9, 4, 22, 7, 1, 9, 10]\n",
    "collapse_pairs(a)\n",
    "print(a)"
   ]
  },
  {
   "cell_type": "code",
   "execution_count": 13,
   "metadata": {},
   "outputs": [
    {
     "name": "stdout",
     "output_type": "stream",
     "text": [
      "2.5\n"
     ]
    }
   ],
   "source": [
    "#Fourth Problem\n",
    "\n",
    "def compute_average(int_list):\n",
    "    return sum(int_list)/len(int_list)\n",
    "\n",
    "a = [1, -2, 4, -4, 9, -6, 16, -8, 25, -10]\n",
    "average = compute_average(a)\n",
    "print(average)\n"
   ]
  },
  {
   "cell_type": "markdown",
   "metadata": {},
   "source": [
    "Data Lemur exercise\n"
   ]
  },
  {
   "cell_type": "code",
   "execution_count": 15,
   "metadata": {},
   "outputs": [
    {
     "name": "stdout",
     "output_type": "stream",
     "text": [
      "[1, 3]\n"
     ]
    }
   ],
   "source": [
    "def intersection(a, b):\n",
    "  set_a = set(a)\n",
    "  set_b = set(b)\n",
    "  intersection = [item for item in set_a if item in set_b] #creates a list that are in both a and b\n",
    "  return intersection\n",
    "\n",
    "A = [1, 2, 3, 4, 5]\n",
    "B = [0, 1, 3, 7]\n",
    "print(intersection(A, B))\n"
   ]
  },
  {
   "cell_type": "markdown",
   "metadata": {},
   "source": [
    "LeetCode\n"
   ]
  },
  {
   "cell_type": "code",
   "execution_count": null,
   "metadata": {},
   "outputs": [],
   "source": [
    "class MyQueue:\n",
    "\n",
    "    def move_elements(self) -> None:\n",
    "        if not self.stack2:\n",
    "            while self.stack1:\n",
    "                self.stack2.append(self.stack1.pop())\n",
    "\n",
    "    def __init__(self):\n",
    "        self.stack1 = [] #pushin\n",
    "        self.stack2 = [] #poppin\n",
    "        \n",
    "    def push(self, x: int) -> None:\n",
    "        self.stack1.append(x) #pushin to the back\n",
    "\n",
    "    def pop(self) -> int:\n",
    "        self.move_elements()\n",
    "        return self.stack2.pop()\n",
    "\n",
    "    def peek(self) -> int:\n",
    "        self.move_elements()\n",
    "        return self.stack2[-1]\n",
    "\n",
    "    def empty(self) -> bool:\n",
    "        return len(self.stack1) == 0 and len(self.stack2) == 0 #checks if empty for both"
   ]
  }
 ],
 "metadata": {
  "kernelspec": {
   "display_name": "Python 3",
   "language": "python",
   "name": "python3"
  },
  "language_info": {
   "codemirror_mode": {
    "name": "ipython",
    "version": 3
   },
   "file_extension": ".py",
   "mimetype": "text/x-python",
   "name": "python",
   "nbconvert_exporter": "python",
   "pygments_lexer": "ipython3",
   "version": "3.12.7"
  }
 },
 "nbformat": 4,
 "nbformat_minor": 2
}
